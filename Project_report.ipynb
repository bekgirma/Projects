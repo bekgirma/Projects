{
 "cells": [
  {
   "cell_type": "code",
   "execution_count": 1,
   "id": "d706a157",
   "metadata": {},
   "outputs": [],
   "source": [
    "import pandas as pd # Dataset manipulation\n",
    "import numpy as np # Dataset manipulation\n",
    "import seaborn as sns #statistical data visualization\n",
    "import matplotlib.pyplot as plt # Visualization\n",
    "from sklearn.model_selection import train_test_split # Splitting data into training and test sets\n",
    "from sklearn.metrics import accuracy_score # Measures the accuracy of the model\n",
    "from sklearn import metrics # Scores the performance of the model\n",
    "from sklearn.model_selection import cross_validate\n",
    "from sklearn.pipeline import Pipeline\n",
    "from sklearn.impute import SimpleImputer\n",
    "from sklearn.metrics import confusion_matrix"
   ]
  },
  {
   "cell_type": "code",
   "execution_count": 2,
   "id": "f3aea56e",
   "metadata": {},
   "outputs": [],
   "source": [
    "diab_data = pd.read_csv(\"../../Data/Diabetes_Archive/diabetes_prediction_dataset.csv\")"
   ]
  },
  {
   "cell_type": "markdown",
   "id": "8c7ca4b5",
   "metadata": {},
   "source": [
    "<h1 align=\"center\"> Examining Different Machine Learning Models Effectiveness in Recognizing Diabetes.</h1>"
   ]
  },
  {
   "cell_type": "markdown",
   "id": "c80b74f1",
   "metadata": {},
   "source": [
    "## Introduction\n",
    "The goal of this project is to examine different classification models and their performance in classifiying whether an individual has diabetes or not. The models used are Naive-Bayes, Random Forest, and XGBoost. Before starting to fit the data into model, the data is explored for pronounced correlation between the features and response variable."
   ]
  },
  {
   "cell_type": "markdown",
   "id": "b5b889fe",
   "metadata": {},
   "source": [
    "## Data\n",
    "The data is sourced from kaggle. The dataset contains 100,000 observations. It contains eight features relating to an individuals health.\n",
    "- Age is an important factor as diabetes is more commonly diagnosed in older adults. Age ranges from 0-80 in our dataset.\n",
    "- Hypertension is a medical condition in which the blood pressure in the arteries is persistently elevated. It has values a 0 or 1 where 0 indicates they don’t have hypertension and for 1 it means they have hypertension.\n",
    "- Heart disease is another medical condition that is associated with an increased risk of developing diabetes. It has values a 0 or 1 where 0 indicates they don’t have heart disease and for 1 it means they have heart disease.\n",
    "- Smoking history is also considered a risk factor for diabetes and can exacerbate the complications associated with diabetes.In our dataset we have 5 categories i.e not current,former,No Info,current,never and ever.\n",
    "    - not current: individuals who used to smoke but are currently not smoking\n",
    "    - former: individuals who used to smoke but have been abstinent for a long period of time.\n",
    "    - No Info: smoking history is unknown\n",
    "    - current: individuals who currently smoke\n",
    "    - never: individuals who have never smoked\n",
    "    - ever: individuals who have at one point been a smoker.\n",
    "- BMI (Body Mass Index) is a measure of body fat based on weight and height. Higher BMI values are linked to a higher risk of diabetes. The range of BMI in the dataset is from 10.16 to 71.55.\n",
    "    - Less than 18.5 is underweight\n",
    "    - 18.5-24.9 is normal\n",
    "    - 25-29.9 is overweight\n",
    "    - 30 or more is obese.\n",
    "- HbA1c (Hemoglobin A1c) level is a measure of a person's average blood sugar level over the past 2-3 months. Higher levels indicate a greater risk of developing diabetes. Mostly more than 6.5% of HbA1c Level indicates diabetes.\n",
    "- Blood glucose level refers to the amount of glucose in the bloodstream at a given time. High blood glucose levels are a key indicator of diabetes.\n",
    "\n",
    "The response variable diabetes holds binary values to determine whether an individual has diabetes (1) or not (0)."
   ]
  },
  {
   "cell_type": "markdown",
   "id": "ca46e281",
   "metadata": {},
   "source": [
    "## Exploratory Data Analysis"
   ]
  },
  {
   "cell_type": "code",
   "execution_count": 3,
   "id": "7b1e069a",
   "metadata": {},
   "outputs": [
    {
     "data": {
      "text/html": [
       "<div>\n",
       "<style scoped>\n",
       "    .dataframe tbody tr th:only-of-type {\n",
       "        vertical-align: middle;\n",
       "    }\n",
       "\n",
       "    .dataframe tbody tr th {\n",
       "        vertical-align: top;\n",
       "    }\n",
       "\n",
       "    .dataframe thead th {\n",
       "        text-align: right;\n",
       "    }\n",
       "</style>\n",
       "<table border=\"1\" class=\"dataframe\">\n",
       "  <thead>\n",
       "    <tr style=\"text-align: right;\">\n",
       "      <th></th>\n",
       "      <th>gender</th>\n",
       "      <th>age</th>\n",
       "      <th>hypertension</th>\n",
       "      <th>heart_disease</th>\n",
       "      <th>smoking_history</th>\n",
       "      <th>bmi</th>\n",
       "      <th>HbA1c_level</th>\n",
       "      <th>blood_glucose_level</th>\n",
       "      <th>diabetes</th>\n",
       "    </tr>\n",
       "  </thead>\n",
       "  <tbody>\n",
       "    <tr>\n",
       "      <th>0</th>\n",
       "      <td>Female</td>\n",
       "      <td>80.0</td>\n",
       "      <td>0</td>\n",
       "      <td>1</td>\n",
       "      <td>never</td>\n",
       "      <td>25.19</td>\n",
       "      <td>6.6</td>\n",
       "      <td>140</td>\n",
       "      <td>0</td>\n",
       "    </tr>\n",
       "    <tr>\n",
       "      <th>1</th>\n",
       "      <td>Female</td>\n",
       "      <td>54.0</td>\n",
       "      <td>0</td>\n",
       "      <td>0</td>\n",
       "      <td>No Info</td>\n",
       "      <td>27.32</td>\n",
       "      <td>6.6</td>\n",
       "      <td>80</td>\n",
       "      <td>0</td>\n",
       "    </tr>\n",
       "    <tr>\n",
       "      <th>2</th>\n",
       "      <td>Male</td>\n",
       "      <td>28.0</td>\n",
       "      <td>0</td>\n",
       "      <td>0</td>\n",
       "      <td>never</td>\n",
       "      <td>27.32</td>\n",
       "      <td>5.7</td>\n",
       "      <td>158</td>\n",
       "      <td>0</td>\n",
       "    </tr>\n",
       "    <tr>\n",
       "      <th>3</th>\n",
       "      <td>Female</td>\n",
       "      <td>36.0</td>\n",
       "      <td>0</td>\n",
       "      <td>0</td>\n",
       "      <td>current</td>\n",
       "      <td>23.45</td>\n",
       "      <td>5.0</td>\n",
       "      <td>155</td>\n",
       "      <td>0</td>\n",
       "    </tr>\n",
       "    <tr>\n",
       "      <th>4</th>\n",
       "      <td>Male</td>\n",
       "      <td>76.0</td>\n",
       "      <td>1</td>\n",
       "      <td>1</td>\n",
       "      <td>current</td>\n",
       "      <td>20.14</td>\n",
       "      <td>4.8</td>\n",
       "      <td>155</td>\n",
       "      <td>0</td>\n",
       "    </tr>\n",
       "  </tbody>\n",
       "</table>\n",
       "</div>"
      ],
      "text/plain": [
       "   gender   age  hypertension  heart_disease smoking_history    bmi  \\\n",
       "0  Female  80.0             0              1           never  25.19   \n",
       "1  Female  54.0             0              0         No Info  27.32   \n",
       "2    Male  28.0             0              0           never  27.32   \n",
       "3  Female  36.0             0              0         current  23.45   \n",
       "4    Male  76.0             1              1         current  20.14   \n",
       "\n",
       "   HbA1c_level  blood_glucose_level  diabetes  \n",
       "0          6.6                  140         0  \n",
       "1          6.6                   80         0  \n",
       "2          5.7                  158         0  \n",
       "3          5.0                  155         0  \n",
       "4          4.8                  155         0  "
      ]
     },
     "execution_count": 3,
     "metadata": {},
     "output_type": "execute_result"
    }
   ],
   "source": [
    "diab_data.head()"
   ]
  },
  {
   "cell_type": "code",
   "execution_count": 4,
   "id": "404e4c26",
   "metadata": {},
   "outputs": [
    {
     "data": {
      "text/html": [
       "<div>\n",
       "<style scoped>\n",
       "    .dataframe tbody tr th:only-of-type {\n",
       "        vertical-align: middle;\n",
       "    }\n",
       "\n",
       "    .dataframe tbody tr th {\n",
       "        vertical-align: top;\n",
       "    }\n",
       "\n",
       "    .dataframe thead th {\n",
       "        text-align: right;\n",
       "    }\n",
       "</style>\n",
       "<table border=\"1\" class=\"dataframe\">\n",
       "  <thead>\n",
       "    <tr style=\"text-align: right;\">\n",
       "      <th></th>\n",
       "      <th>age</th>\n",
       "      <th>hypertension</th>\n",
       "      <th>heart_disease</th>\n",
       "      <th>bmi</th>\n",
       "      <th>HbA1c_level</th>\n",
       "      <th>blood_glucose_level</th>\n",
       "      <th>diabetes</th>\n",
       "    </tr>\n",
       "  </thead>\n",
       "  <tbody>\n",
       "    <tr>\n",
       "      <th>count</th>\n",
       "      <td>100000.000000</td>\n",
       "      <td>100000.00000</td>\n",
       "      <td>100000.000000</td>\n",
       "      <td>100000.000000</td>\n",
       "      <td>100000.000000</td>\n",
       "      <td>100000.000000</td>\n",
       "      <td>100000.000000</td>\n",
       "    </tr>\n",
       "    <tr>\n",
       "      <th>mean</th>\n",
       "      <td>41.885856</td>\n",
       "      <td>0.07485</td>\n",
       "      <td>0.039420</td>\n",
       "      <td>27.320767</td>\n",
       "      <td>5.527507</td>\n",
       "      <td>138.058060</td>\n",
       "      <td>0.085000</td>\n",
       "    </tr>\n",
       "    <tr>\n",
       "      <th>std</th>\n",
       "      <td>22.516840</td>\n",
       "      <td>0.26315</td>\n",
       "      <td>0.194593</td>\n",
       "      <td>6.636783</td>\n",
       "      <td>1.070672</td>\n",
       "      <td>40.708136</td>\n",
       "      <td>0.278883</td>\n",
       "    </tr>\n",
       "    <tr>\n",
       "      <th>min</th>\n",
       "      <td>0.080000</td>\n",
       "      <td>0.00000</td>\n",
       "      <td>0.000000</td>\n",
       "      <td>10.010000</td>\n",
       "      <td>3.500000</td>\n",
       "      <td>80.000000</td>\n",
       "      <td>0.000000</td>\n",
       "    </tr>\n",
       "    <tr>\n",
       "      <th>25%</th>\n",
       "      <td>24.000000</td>\n",
       "      <td>0.00000</td>\n",
       "      <td>0.000000</td>\n",
       "      <td>23.630000</td>\n",
       "      <td>4.800000</td>\n",
       "      <td>100.000000</td>\n",
       "      <td>0.000000</td>\n",
       "    </tr>\n",
       "    <tr>\n",
       "      <th>50%</th>\n",
       "      <td>43.000000</td>\n",
       "      <td>0.00000</td>\n",
       "      <td>0.000000</td>\n",
       "      <td>27.320000</td>\n",
       "      <td>5.800000</td>\n",
       "      <td>140.000000</td>\n",
       "      <td>0.000000</td>\n",
       "    </tr>\n",
       "    <tr>\n",
       "      <th>75%</th>\n",
       "      <td>60.000000</td>\n",
       "      <td>0.00000</td>\n",
       "      <td>0.000000</td>\n",
       "      <td>29.580000</td>\n",
       "      <td>6.200000</td>\n",
       "      <td>159.000000</td>\n",
       "      <td>0.000000</td>\n",
       "    </tr>\n",
       "    <tr>\n",
       "      <th>max</th>\n",
       "      <td>80.000000</td>\n",
       "      <td>1.00000</td>\n",
       "      <td>1.000000</td>\n",
       "      <td>95.690000</td>\n",
       "      <td>9.000000</td>\n",
       "      <td>300.000000</td>\n",
       "      <td>1.000000</td>\n",
       "    </tr>\n",
       "  </tbody>\n",
       "</table>\n",
       "</div>"
      ],
      "text/plain": [
       "                 age  hypertension  heart_disease            bmi  \\\n",
       "count  100000.000000  100000.00000  100000.000000  100000.000000   \n",
       "mean       41.885856       0.07485       0.039420      27.320767   \n",
       "std        22.516840       0.26315       0.194593       6.636783   \n",
       "min         0.080000       0.00000       0.000000      10.010000   \n",
       "25%        24.000000       0.00000       0.000000      23.630000   \n",
       "50%        43.000000       0.00000       0.000000      27.320000   \n",
       "75%        60.000000       0.00000       0.000000      29.580000   \n",
       "max        80.000000       1.00000       1.000000      95.690000   \n",
       "\n",
       "         HbA1c_level  blood_glucose_level       diabetes  \n",
       "count  100000.000000        100000.000000  100000.000000  \n",
       "mean        5.527507           138.058060       0.085000  \n",
       "std         1.070672            40.708136       0.278883  \n",
       "min         3.500000            80.000000       0.000000  \n",
       "25%         4.800000           100.000000       0.000000  \n",
       "50%         5.800000           140.000000       0.000000  \n",
       "75%         6.200000           159.000000       0.000000  \n",
       "max         9.000000           300.000000       1.000000  "
      ]
     },
     "execution_count": 4,
     "metadata": {},
     "output_type": "execute_result"
    }
   ],
   "source": [
    "diab_data.describe()"
   ]
  },
  {
   "cell_type": "code",
   "execution_count": 5,
   "id": "f58c852d",
   "metadata": {},
   "outputs": [
    {
     "name": "stdout",
     "output_type": "stream",
     "text": [
      "<class 'pandas.core.frame.DataFrame'>\n",
      "RangeIndex: 100000 entries, 0 to 99999\n",
      "Data columns (total 9 columns):\n",
      " #   Column               Non-Null Count   Dtype  \n",
      "---  ------               --------------   -----  \n",
      " 0   gender               100000 non-null  object \n",
      " 1   age                  100000 non-null  float64\n",
      " 2   hypertension         100000 non-null  int64  \n",
      " 3   heart_disease        100000 non-null  int64  \n",
      " 4   smoking_history      100000 non-null  object \n",
      " 5   bmi                  100000 non-null  float64\n",
      " 6   HbA1c_level          100000 non-null  float64\n",
      " 7   blood_glucose_level  100000 non-null  int64  \n",
      " 8   diabetes             100000 non-null  int64  \n",
      "dtypes: float64(3), int64(4), object(2)\n",
      "memory usage: 6.9+ MB\n"
     ]
    }
   ],
   "source": [
    "diab_data.info()"
   ]
  },
  {
   "cell_type": "code",
   "execution_count": 6,
   "id": "a2814312",
   "metadata": {},
   "outputs": [
    {
     "data": {
      "text/plain": [
       "0    0.915\n",
       "1    0.085\n",
       "Name: diabetes, dtype: float64"
      ]
     },
     "execution_count": 6,
     "metadata": {},
     "output_type": "execute_result"
    }
   ],
   "source": [
    "diab_distribution = diab_data['diabetes'].value_counts()/len(diab_data)\n",
    "diab_distribution"
   ]
  },
  {
   "cell_type": "code",
   "execution_count": 7,
   "id": "ad495a45",
   "metadata": {},
   "outputs": [
    {
     "data": {
      "image/png": "[encoded data removed]",
      "text/plain": [
       "<Figure size 640x480 with 1 Axes>"
      ]
     },
     "metadata": {},
     "output_type": "display_data"
    }
   ],
   "source": [
    "plt.pie(diab_distribution, labels = ['non-diabetic', 'diabetic'],\n",
    "       autopct = '%1.1f%%')\n",
    "plt.title(\"Distribution of diabetics in dataset\")\n",
    "plt.show()"
   ]
  },
  {
   "cell_type": "markdown",
   "id": "8f961192",
   "metadata": {},
   "source": [
    "This shows that more than 90% percent of individuals recorded for the study don't have diabetes. Our main goal is to build a model that accurately predicts if an individual has diabetes or not. Thus, an unbalanced dataset like this will lead to the model having bias towards the non-diabetic label. To counter this we can simply reduce the number of non-diabetic observations we will use in our model. I've chosen to reduce it to 8,500 observations of non-diabetics so that the disparity isn't as high."
   ]
  },
  {
   "cell_type": "code",
   "execution_count": 8,
   "id": "c60b4963",
   "metadata": {},
   "outputs": [
    {
     "data": {
      "text/html": [
       "<div>\n",
       "<style scoped>\n",
       "    .dataframe tbody tr th:only-of-type {\n",
       "        vertical-align: middle;\n",
       "    }\n",
       "\n",
       "    .dataframe tbody tr th {\n",
       "        vertical-align: top;\n",
       "    }\n",
       "\n",
       "    .dataframe thead th {\n",
       "        text-align: right;\n",
       "    }\n",
       "</style>\n",
       "<table border=\"1\" class=\"dataframe\">\n",
       "  <thead>\n",
       "    <tr style=\"text-align: right;\">\n",
       "      <th></th>\n",
       "      <th>gender</th>\n",
       "      <th>age</th>\n",
       "      <th>hypertension</th>\n",
       "      <th>heart_disease</th>\n",
       "      <th>smoking_history</th>\n",
       "      <th>bmi</th>\n",
       "      <th>HbA1c_level</th>\n",
       "      <th>blood_glucose_level</th>\n",
       "      <th>diabetes</th>\n",
       "    </tr>\n",
       "  </thead>\n",
       "  <tbody>\n",
       "    <tr>\n",
       "      <th>16150</th>\n",
       "      <td>Male</td>\n",
       "      <td>30.0</td>\n",
       "      <td>0</td>\n",
       "      <td>0</td>\n",
       "      <td>never</td>\n",
       "      <td>27.32</td>\n",
       "      <td>3.5</td>\n",
       "      <td>155</td>\n",
       "      <td>0</td>\n",
       "    </tr>\n",
       "    <tr>\n",
       "      <th>24487</th>\n",
       "      <td>Male</td>\n",
       "      <td>47.0</td>\n",
       "      <td>0</td>\n",
       "      <td>0</td>\n",
       "      <td>never</td>\n",
       "      <td>43.22</td>\n",
       "      <td>6.1</td>\n",
       "      <td>155</td>\n",
       "      <td>0</td>\n",
       "    </tr>\n",
       "    <tr>\n",
       "      <th>62911</th>\n",
       "      <td>Male</td>\n",
       "      <td>50.0</td>\n",
       "      <td>0</td>\n",
       "      <td>0</td>\n",
       "      <td>current</td>\n",
       "      <td>22.75</td>\n",
       "      <td>5.8</td>\n",
       "      <td>159</td>\n",
       "      <td>0</td>\n",
       "    </tr>\n",
       "    <tr>\n",
       "      <th>84191</th>\n",
       "      <td>Female</td>\n",
       "      <td>31.0</td>\n",
       "      <td>0</td>\n",
       "      <td>0</td>\n",
       "      <td>No Info</td>\n",
       "      <td>31.07</td>\n",
       "      <td>6.1</td>\n",
       "      <td>126</td>\n",
       "      <td>0</td>\n",
       "    </tr>\n",
       "    <tr>\n",
       "      <th>35568</th>\n",
       "      <td>Female</td>\n",
       "      <td>16.0</td>\n",
       "      <td>0</td>\n",
       "      <td>0</td>\n",
       "      <td>No Info</td>\n",
       "      <td>25.23</td>\n",
       "      <td>6.5</td>\n",
       "      <td>126</td>\n",
       "      <td>0</td>\n",
       "    </tr>\n",
       "  </tbody>\n",
       "</table>\n",
       "</div>"
      ],
      "text/plain": [
       "       gender   age  hypertension  heart_disease smoking_history    bmi  \\\n",
       "16150    Male  30.0             0              0           never  27.32   \n",
       "24487    Male  47.0             0              0           never  43.22   \n",
       "62911    Male  50.0             0              0         current  22.75   \n",
       "84191  Female  31.0             0              0         No Info  31.07   \n",
       "35568  Female  16.0             0              0         No Info  25.23   \n",
       "\n",
       "       HbA1c_level  blood_glucose_level  diabetes  \n",
       "16150          3.5                  155         0  \n",
       "24487          6.1                  155         0  \n",
       "62911          5.8                  159         0  \n",
       "84191          6.1                  126         0  \n",
       "35568          6.5                  126         0  "
      ]
     },
     "execution_count": 8,
     "metadata": {},
     "output_type": "execute_result"
    }
   ],
   "source": [
    "neg_diab = diab_data[diab_data['diabetes']==0].sample(8500)\n",
    "pos_diab = diab_data[diab_data['diabetes']==1]\n",
    "balanced_dataset = pd.concat([neg_diab,pos_diab],axis=0)\n",
    "balanced_dataset.head()"
   ]
  },
  {
   "cell_type": "code",
   "execution_count": 9,
   "id": "336967a3",
   "metadata": {},
   "outputs": [],
   "source": [
    "balanced_dataset['gender_num'] = pd.Categorical(balanced_dataset['gender']).codes\n",
    "balanced_dataset['smoking_history_num'] = pd.Categorical(balanced_dataset['smoking_history']).codes"
   ]
  },
  {
   "cell_type": "code",
   "execution_count": 10,
   "id": "a804e5d2",
   "metadata": {},
   "outputs": [
    {
     "data": {
      "text/html": [
       "<div>\n",
       "<style scoped>\n",
       "    .dataframe tbody tr th:only-of-type {\n",
       "        vertical-align: middle;\n",
       "    }\n",
       "\n",
       "    .dataframe tbody tr th {\n",
       "        vertical-align: top;\n",
       "    }\n",
       "\n",
       "    .dataframe thead th {\n",
       "        text-align: right;\n",
       "    }\n",
       "</style>\n",
       "<table border=\"1\" class=\"dataframe\">\n",
       "  <thead>\n",
       "    <tr style=\"text-align: right;\">\n",
       "      <th></th>\n",
       "      <th>age</th>\n",
       "      <th>hypertension</th>\n",
       "      <th>heart_disease</th>\n",
       "      <th>bmi</th>\n",
       "      <th>HbA1c_level</th>\n",
       "      <th>blood_glucose_level</th>\n",
       "      <th>diabetes</th>\n",
       "      <th>gender_num</th>\n",
       "      <th>smoking_history_num</th>\n",
       "    </tr>\n",
       "  </thead>\n",
       "  <tbody>\n",
       "    <tr>\n",
       "      <th>age</th>\n",
       "      <td>1.000000</td>\n",
       "      <td>0.252698</td>\n",
       "      <td>0.251822</td>\n",
       "      <td>0.274838</td>\n",
       "      <td>0.299591</td>\n",
       "      <td>0.273443</td>\n",
       "      <td>0.492666</td>\n",
       "      <td>0.004698</td>\n",
       "      <td>0.244591</td>\n",
       "    </tr>\n",
       "    <tr>\n",
       "      <th>hypertension</th>\n",
       "      <td>0.252698</td>\n",
       "      <td>1.000000</td>\n",
       "      <td>0.101867</td>\n",
       "      <td>0.155174</td>\n",
       "      <td>0.159407</td>\n",
       "      <td>0.137251</td>\n",
       "      <td>0.257362</td>\n",
       "      <td>0.013379</td>\n",
       "      <td>0.109287</td>\n",
       "    </tr>\n",
       "    <tr>\n",
       "      <th>heart_disease</th>\n",
       "      <td>0.251822</td>\n",
       "      <td>0.101867</td>\n",
       "      <td>1.000000</td>\n",
       "      <td>0.055647</td>\n",
       "      <td>0.127775</td>\n",
       "      <td>0.113077</td>\n",
       "      <td>0.210922</td>\n",
       "      <td>0.096085</td>\n",
       "      <td>0.034643</td>\n",
       "    </tr>\n",
       "    <tr>\n",
       "      <th>bmi</th>\n",
       "      <td>0.274838</td>\n",
       "      <td>0.155174</td>\n",
       "      <td>0.055647</td>\n",
       "      <td>1.000000</td>\n",
       "      <td>0.198841</td>\n",
       "      <td>0.184384</td>\n",
       "      <td>0.344631</td>\n",
       "      <td>-0.041002</td>\n",
       "      <td>0.185018</td>\n",
       "    </tr>\n",
       "    <tr>\n",
       "      <th>HbA1c_level</th>\n",
       "      <td>0.299591</td>\n",
       "      <td>0.159407</td>\n",
       "      <td>0.127775</td>\n",
       "      <td>0.198841</td>\n",
       "      <td>1.000000</td>\n",
       "      <td>0.319317</td>\n",
       "      <td>0.601629</td>\n",
       "      <td>0.042684</td>\n",
       "      <td>0.112718</td>\n",
       "    </tr>\n",
       "    <tr>\n",
       "      <th>blood_glucose_level</th>\n",
       "      <td>0.273443</td>\n",
       "      <td>0.137251</td>\n",
       "      <td>0.113077</td>\n",
       "      <td>0.184384</td>\n",
       "      <td>0.319317</td>\n",
       "      <td>1.000000</td>\n",
       "      <td>0.536354</td>\n",
       "      <td>0.031898</td>\n",
       "      <td>0.093076</td>\n",
       "    </tr>\n",
       "    <tr>\n",
       "      <th>diabetes</th>\n",
       "      <td>0.492666</td>\n",
       "      <td>0.257362</td>\n",
       "      <td>0.210922</td>\n",
       "      <td>0.344631</td>\n",
       "      <td>0.601629</td>\n",
       "      <td>0.536354</td>\n",
       "      <td>1.000000</td>\n",
       "      <td>0.063925</td>\n",
       "      <td>0.183602</td>\n",
       "    </tr>\n",
       "    <tr>\n",
       "      <th>gender_num</th>\n",
       "      <td>0.004698</td>\n",
       "      <td>0.013379</td>\n",
       "      <td>0.096085</td>\n",
       "      <td>-0.041002</td>\n",
       "      <td>0.042684</td>\n",
       "      <td>0.031898</td>\n",
       "      <td>0.063925</td>\n",
       "      <td>1.000000</td>\n",
       "      <td>-0.066150</td>\n",
       "    </tr>\n",
       "    <tr>\n",
       "      <th>smoking_history_num</th>\n",
       "      <td>0.244591</td>\n",
       "      <td>0.109287</td>\n",
       "      <td>0.034643</td>\n",
       "      <td>0.185018</td>\n",
       "      <td>0.112718</td>\n",
       "      <td>0.093076</td>\n",
       "      <td>0.183602</td>\n",
       "      <td>-0.066150</td>\n",
       "      <td>1.000000</td>\n",
       "    </tr>\n",
       "  </tbody>\n",
       "</table>\n",
       "</div>"
      ],
      "text/plain": [
       "                          age  hypertension  heart_disease       bmi  \\\n",
       "age                  1.000000      0.252698       0.251822  0.274838   \n",
       "hypertension         0.252698      1.000000       0.101867  0.155174   \n",
       "heart_disease        0.251822      0.101867       1.000000  0.055647   \n",
       "bmi                  0.274838      0.155174       0.055647  1.000000   \n",
       "HbA1c_level          0.299591      0.159407       0.127775  0.198841   \n",
       "blood_glucose_level  0.273443      0.137251       0.113077  0.184384   \n",
       "diabetes             0.492666      0.257362       0.210922  0.344631   \n",
       "gender_num           0.004698      0.013379       0.096085 -0.041002   \n",
       "smoking_history_num  0.244591      0.109287       0.034643  0.185018   \n",
       "\n",
       "                     HbA1c_level  blood_glucose_level  diabetes  gender_num  \\\n",
       "age                     0.299591             0.273443  0.492666    0.004698   \n",
       "hypertension            0.159407             0.137251  0.257362    0.013379   \n",
       "heart_disease           0.127775             0.113077  0.210922    0.096085   \n",
       "bmi                     0.198841             0.184384  0.344631   -0.041002   \n",
       "HbA1c_level             1.000000             0.319317  0.601629    0.042684   \n",
       "blood_glucose_level     0.319317             1.000000  0.536354    0.031898   \n",
       "diabetes                0.601629             0.536354  1.000000    0.063925   \n",
       "gender_num              0.042684             0.031898  0.063925    1.000000   \n",
       "smoking_history_num     0.112718             0.093076  0.183602   -0.066150   \n",
       "\n",
       "                     smoking_history_num  \n",
       "age                             0.244591  \n",
       "hypertension                    0.109287  \n",
       "heart_disease                   0.034643  \n",
       "bmi                             0.185018  \n",
       "HbA1c_level                     0.112718  \n",
       "blood_glucose_level             0.093076  \n",
       "diabetes                        0.183602  \n",
       "gender_num                     -0.066150  \n",
       "smoking_history_num             1.000000  "
      ]
     },
     "execution_count": 10,
     "metadata": {},
     "output_type": "execute_result"
    }
   ],
   "source": [
    "corr_df = balanced_dataset.corr()\n",
    "corr_df"
   ]
  },
  {
   "cell_type": "code",
   "execution_count": 11,
   "id": "7cbbd575",
   "metadata": {},
   "outputs": [
    {
     "data": {
      "text/plain": [
       "<matplotlib.legend.Legend at 0x11dc4c364c0>"
      ]
     },
     "execution_count": 11,
     "metadata": {},
     "output_type": "execute_result"
    },
    {
     "data": {
      "image/png": "[encoded data removed]",
      "text/plain": [
       "<Figure size 640x480 with 1 Axes>"
      ]
     },
     "metadata": {},
     "output_type": "display_data"
    }
   ],
   "source": [
    "plt.hist(balanced_dataset['age'],histtype='bar',alpha=0.2, bins=10, ec = 'black',label=\"Population\");\n",
    "plt.hist(pos_diab['age'], histtype='bar', ec = 'black', bins=10,label=\"Diabetes\")\n",
    "plt.xlabel('age')\n",
    "plt.ylabel('frequency')\n",
    "plt.title('Age distribution across dataset')\n",
    "plt.legend(loc='best')"
   ]
  },
  {
   "cell_type": "markdown",
   "id": "f5d0eae8",
   "metadata": {},
   "source": [
    "There is a clear positive correlation between age and the likelihood that an individual is diabetic."
   ]
  },
  {
   "cell_type": "code",
   "execution_count": 12,
   "id": "d3b02fc9",
   "metadata": {},
   "outputs": [
    {
     "data": {
      "text/plain": [
       "<seaborn.axisgrid.FacetGrid at 0x11dc4d373d0>"
      ]
     },
     "execution_count": 12,
     "metadata": {},
     "output_type": "execute_result"
    },
    {
     "data": {
      "image/png": "[encoded data removed]",
      "text/plain": [
       "<Figure size 500x500 with 1 Axes>"
      ]
     },
     "metadata": {},
     "output_type": "display_data"
    }
   ],
   "source": [
    "sns.catplot(data=balanced_dataset,x=\"diabetes\",\n",
    "            y=\"blood_glucose_level\",kind=\"boxen\")"
   ]
  },
  {
   "cell_type": "code",
   "execution_count": 13,
   "id": "4a9531c2",
   "metadata": {},
   "outputs": [
    {
     "data": {
      "text/plain": [
       "<seaborn.axisgrid.FacetGrid at 0x11dc4c01490>"
      ]
     },
     "execution_count": 13,
     "metadata": {},
     "output_type": "execute_result"
    },
    {
     "data": {
      "image/png": "[encoded data removed]",
      "text/plain": [
       "<Figure size 500x500 with 1 Axes>"
      ]
     },
     "metadata": {},
     "output_type": "display_data"
    }
   ],
   "source": [
    "sns.catplot(data=balanced_dataset,x=\"diabetes\",y=\"HbA1c_level\",kind=\"boxen\")"
   ]
  },
  {
   "cell_type": "code",
   "execution_count": 14,
   "id": "c8150777",
   "metadata": {},
   "outputs": [],
   "source": [
    "#plt.hist(balanced_dataset['bmi'],histtype='bar',alpha=0.2, ec = 'black',label=\"Population\");\n",
    "#plt.hist(pos_diab['bmi'], histtype='bar', ec = 'black',label=\"Diabetes\")\n",
    "#plt.xlabel('bmi')\n",
    "#plt.ylabel('frequency')\n",
    "#plt.title('BMI distribution across dataset')\n",
    "#plt.legend(loc='best')"
   ]
  },
  {
   "cell_type": "code",
   "execution_count": 15,
   "id": "217786b5",
   "metadata": {},
   "outputs": [],
   "source": [
    "#plt.hist(balanced_dataset['HbA1c_level'],histtype='bar',alpha=0.2, ec = 'black', label=\"Population\");\n",
    "#plt.hist(pos_diab['HbA1c_level'], histtype='bar', ec = 'black',label=\"Diabetes\")\n",
    "#plt.xlabel('HbA1c_level')\n",
    "#plt.ylabel('frequency')\n",
    "#plt.title('HbA1c_level distribution across dataset')\n",
    "#plt.legend(loc='best')"
   ]
  },
  {
   "cell_type": "code",
   "execution_count": 16,
   "id": "b1f29573",
   "metadata": {},
   "outputs": [],
   "source": [
    "#plt.hist(balanced_dataset['blood_glucose_level'],histtype='bar',alpha=0.2, ec = 'black', label=\"Population\");\n",
    "#plt.hist(pos_diab['blood_glucose_level'], histtype='bar', ec = 'black',label=\"Diabetes\")\n",
    "#plt.xlabel('blood_glucose_level')\n",
    "#plt.ylabel('frequency')\n",
    "#plt.title('blood_glucose_level distribution across dataset')\n",
    "#plt.legend(loc='best')"
   ]
  },
  {
   "cell_type": "markdown",
   "id": "f41d33ca",
   "metadata": {},
   "source": [
    "## Model fitting and predictions"
   ]
  },
  {
   "cell_type": "markdown",
   "id": "09cca351",
   "metadata": {},
   "source": [
    "### 1) Naive Bayes"
   ]
  },
  {
   "cell_type": "code",
   "execution_count": 17,
   "id": "438414c0",
   "metadata": {},
   "outputs": [
    {
     "data": {
      "text/html": [
       "<div>\n",
       "<style scoped>\n",
       "    .dataframe tbody tr th:only-of-type {\n",
       "        vertical-align: middle;\n",
       "    }\n",
       "\n",
       "    .dataframe tbody tr th {\n",
       "        vertical-align: top;\n",
       "    }\n",
       "\n",
       "    .dataframe thead th {\n",
       "        text-align: right;\n",
       "    }\n",
       "</style>\n",
       "<table border=\"1\" class=\"dataframe\">\n",
       "  <thead>\n",
       "    <tr style=\"text-align: right;\">\n",
       "      <th></th>\n",
       "      <th>gender</th>\n",
       "      <th>age</th>\n",
       "      <th>hypertension</th>\n",
       "      <th>heart_disease</th>\n",
       "      <th>smoking_history</th>\n",
       "      <th>bmi</th>\n",
       "      <th>HbA1c_level</th>\n",
       "      <th>blood_glucose_level</th>\n",
       "      <th>diabetes</th>\n",
       "      <th>gender_num</th>\n",
       "      <th>smoking_history_num</th>\n",
       "    </tr>\n",
       "  </thead>\n",
       "  <tbody>\n",
       "    <tr>\n",
       "      <th>16150</th>\n",
       "      <td>Male</td>\n",
       "      <td>30.0</td>\n",
       "      <td>0</td>\n",
       "      <td>0</td>\n",
       "      <td>never</td>\n",
       "      <td>27.32</td>\n",
       "      <td>3.5</td>\n",
       "      <td>155</td>\n",
       "      <td>0</td>\n",
       "      <td>1</td>\n",
       "      <td>4</td>\n",
       "    </tr>\n",
       "    <tr>\n",
       "      <th>24487</th>\n",
       "      <td>Male</td>\n",
       "      <td>47.0</td>\n",
       "      <td>0</td>\n",
       "      <td>0</td>\n",
       "      <td>never</td>\n",
       "      <td>43.22</td>\n",
       "      <td>6.1</td>\n",
       "      <td>155</td>\n",
       "      <td>0</td>\n",
       "      <td>1</td>\n",
       "      <td>4</td>\n",
       "    </tr>\n",
       "    <tr>\n",
       "      <th>62911</th>\n",
       "      <td>Male</td>\n",
       "      <td>50.0</td>\n",
       "      <td>0</td>\n",
       "      <td>0</td>\n",
       "      <td>current</td>\n",
       "      <td>22.75</td>\n",
       "      <td>5.8</td>\n",
       "      <td>159</td>\n",
       "      <td>0</td>\n",
       "      <td>1</td>\n",
       "      <td>1</td>\n",
       "    </tr>\n",
       "    <tr>\n",
       "      <th>84191</th>\n",
       "      <td>Female</td>\n",
       "      <td>31.0</td>\n",
       "      <td>0</td>\n",
       "      <td>0</td>\n",
       "      <td>No Info</td>\n",
       "      <td>31.07</td>\n",
       "      <td>6.1</td>\n",
       "      <td>126</td>\n",
       "      <td>0</td>\n",
       "      <td>0</td>\n",
       "      <td>0</td>\n",
       "    </tr>\n",
       "    <tr>\n",
       "      <th>35568</th>\n",
       "      <td>Female</td>\n",
       "      <td>16.0</td>\n",
       "      <td>0</td>\n",
       "      <td>0</td>\n",
       "      <td>No Info</td>\n",
       "      <td>25.23</td>\n",
       "      <td>6.5</td>\n",
       "      <td>126</td>\n",
       "      <td>0</td>\n",
       "      <td>0</td>\n",
       "      <td>0</td>\n",
       "    </tr>\n",
       "  </tbody>\n",
       "</table>\n",
       "</div>"
      ],
      "text/plain": [
       "       gender   age  hypertension  heart_disease smoking_history    bmi  \\\n",
       "16150    Male  30.0             0              0           never  27.32   \n",
       "24487    Male  47.0             0              0           never  43.22   \n",
       "62911    Male  50.0             0              0         current  22.75   \n",
       "84191  Female  31.0             0              0         No Info  31.07   \n",
       "35568  Female  16.0             0              0         No Info  25.23   \n",
       "\n",
       "       HbA1c_level  blood_glucose_level  diabetes  gender_num  \\\n",
       "16150          3.5                  155         0           1   \n",
       "24487          6.1                  155         0           1   \n",
       "62911          5.8                  159         0           1   \n",
       "84191          6.1                  126         0           0   \n",
       "35568          6.5                  126         0           0   \n",
       "\n",
       "       smoking_history_num  \n",
       "16150                    4  \n",
       "24487                    4  \n",
       "62911                    1  \n",
       "84191                    0  \n",
       "35568                    0  "
      ]
     },
     "execution_count": 17,
     "metadata": {},
     "output_type": "execute_result"
    }
   ],
   "source": [
    "balanced_dataset.head()"
   ]
  },
  {
   "cell_type": "code",
   "execution_count": 20,
   "id": "d3778c57",
   "metadata": {},
   "outputs": [],
   "source": [
    "column_index = np.array([1,2,3,5,6,7,9,10])\n",
    "features = balanced_dataset.iloc[:,column_index]\n",
    "response = balanced_dataset['diabetes']\n",
    "X_train, X_test, y_train, y_test = train_test_split(features, response,\n",
    "                                                    random_state=42)"
   ]
  },
  {
   "cell_type": "code",
   "execution_count": 21,
   "id": "e4eb168f",
   "metadata": {},
   "outputs": [
    {
     "name": "stdout",
     "output_type": "stream",
     "text": [
      "Accuracy of model:  0.6451764705882352\n",
      "              precision    recall  f1-score   support\n",
      "\n",
      "           0       0.71      0.63      0.67      2391\n",
      "           1       0.58      0.66      0.62      1859\n",
      "\n",
      "    accuracy                           0.65      4250\n",
      "   macro avg       0.64      0.65      0.64      4250\n",
      "weighted avg       0.65      0.65      0.65      4250\n",
      "\n"
     ]
    }
   ],
   "source": [
    "from sklearn.naive_bayes import BernoulliNB\n",
    "bern_model = BernoulliNB()\n",
    "bern_model.fit(X_train, y_train)\n",
    "y_pred = bern_model.predict(X_test)\n",
    "print(\"Accuracy of model: \", accuracy_score(y_test, y_pred))\n",
    "print(metrics.classification_report(y_pred, y_test))"
   ]
  },
  {
   "cell_type": "code",
   "execution_count": 22,
   "id": "34b3f79e",
   "metadata": {},
   "outputs": [
    {
     "data": {
      "image/png": "[encoded data removed]",
      "text/plain": [
       "<Figure size 640x480 with 1 Axes>"
      ]
     },
     "metadata": {},
     "output_type": "display_data"
    }
   ],
   "source": [
    "mat = confusion_matrix(y_test, y_pred)\n",
    "sns.heatmap(mat.T, square=True, annot=True, fmt='d', cbar=False)\n",
    "plt.xlabel('true label')\n",
    "plt.ylabel('predicted label');"
   ]
  },
  {
   "cell_type": "markdown",
   "id": "188e7840",
   "metadata": {},
   "source": [
    "### 2) Random Forest"
   ]
  },
  {
   "cell_type": "code",
   "execution_count": 25,
   "id": "db25dae3",
   "metadata": {},
   "outputs": [
    {
     "name": "stdout",
     "output_type": "stream",
     "text": [
      "Accuracy of model:  0.908235294117647\n",
      "              precision    recall  f1-score   support\n",
      "\n",
      "           0       0.91      0.91      0.91      2129\n",
      "           1       0.91      0.91      0.91      2121\n",
      "\n",
      "    accuracy                           0.91      4250\n",
      "   macro avg       0.91      0.91      0.91      4250\n",
      "weighted avg       0.91      0.91      0.91      4250\n",
      "\n"
     ]
    }
   ],
   "source": [
    "from sklearn.ensemble import RandomForestClassifier\n",
    "\n",
    "# Random Forest model\n",
    "rf_model = RandomForestClassifier(n_estimators=100, random_state=42)\n",
    "rf_model.fit(X_train, y_train)\n",
    "ypred = rf_model.predict(X_test)\n",
    "print(\"Accuracy of model: \", accuracy_score(y_test, ypred))\n",
    "print(metrics.classification_report(ypred, y_test))"
   ]
  },
  {
   "cell_type": "code",
   "execution_count": 26,
   "id": "8ce814ff",
   "metadata": {},
   "outputs": [
    {
     "data": {
      "image/png": "[encoded data removed]",
      "text/plain": [
       "<Figure size 640x480 with 1 Axes>"
      ]
     },
     "metadata": {},
     "output_type": "display_data"
    }
   ],
   "source": [
    "mat = confusion_matrix(y_test, ypred)\n",
    "sns.heatmap(mat.T, square=True, annot=True, fmt='d', cbar=False)\n",
    "plt.xlabel('true label')\n",
    "plt.ylabel('predicted label');"
   ]
  },
  {
   "cell_type": "code",
   "execution_count": 28,
   "id": "63fe7238",
   "metadata": {},
   "outputs": [
    {
     "data": {
      "image/png": "[encoded data removed]",
      "text/plain": [
       "<Figure size 640x480 with 1 Axes>"
      ]
     },
     "metadata": {},
     "output_type": "display_data"
    }
   ],
   "source": [
    "mat = confusion_matrix(y_test, predictions)\n",
    "sns.heatmap(mat.T, square=True, annot=True, fmt='d', cbar=False)\n",
    "plt.xlabel('true label')\n",
    "plt.ylabel('predicted label');"
   ]
  },
  {
   "cell_type": "markdown",
   "id": "099318ca",
   "metadata": {},
   "source": [
    "### 3) XGBoost"
   ]
  },
  {
   "cell_type": "code",
   "execution_count": 27,
   "id": "8a4a2354",
   "metadata": {},
   "outputs": [
    {
     "name": "stdout",
     "output_type": "stream",
     "text": [
      "Accuracy of model:  0.9171764705882353\n",
      "              precision    recall  f1-score   support\n",
      "\n",
      "           0       0.96      0.96      0.96      2129\n",
      "           1       0.96      0.96      0.96      2121\n",
      "\n",
      "    accuracy                           0.96      4250\n",
      "   macro avg       0.96      0.96      0.96      4250\n",
      "weighted avg       0.96      0.96      0.96      4250\n",
      "\n"
     ]
    }
   ],
   "source": [
    "from xgboost import XGBClassifier\n",
    "xbg_model = XGBClassifier(n_estimators=1000, learning_rate=0.05,n_jobs=4,\n",
    "                          early_stopping_rounds=5)\n",
    "xbg_model.fit(X_train, y_train, eval_set=[(X_test, y_test)],verbose=False)\n",
    "predictions = xbg_model.predict(X_test)\n",
    "print(\"Accuracy of model: \", accuracy_score(y_test, predictions))\n",
    "print(metrics.classification_report(ypred, predictions))"
   ]
  }
 ],
 "metadata": {
  "kernelspec": {
   "display_name": "Python 3 (ipykernel)",
   "language": "python",
   "name": "python3"
  },
  "language_info": {
   "codemirror_mode": {
    "name": "ipython",
    "version": 3
   },
   "file_extension": ".py",
   "mimetype": "text/x-python",
   "name": "python",
   "nbconvert_exporter": "python",
   "pygments_lexer": "ipython3",
   "version": "3.9.13"
  }
 },
 "nbformat": 4,
 "nbformat_minor": 5
}
