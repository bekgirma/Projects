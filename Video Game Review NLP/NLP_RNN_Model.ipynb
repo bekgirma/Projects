{
 "cells": [
  {
   "cell_type": "code",
   "execution_count": 3,
   "id": "170451bc",
   "metadata": {},
   "outputs": [],
   "source": [
    "import numpy as np\n",
    "import os\n",
    "import tensorflow as tf\n",
    "import pandas as pd\n",
    "\n",
    "from sklearn import preprocessing\n",
    "from sklearn.model_selection import train_test_split\n",
    "from tensorflow.keras.preprocessing.text import Tokenizer\n",
    "from tensorflow.keras.preprocessing.sequence import pad_sequences\n",
    "from tensorflow import keras\n",
    "from tensorflow.keras import optimizers\n",
    "from tensorflow.keras.regularizers import l2\n",
    "from keras.layers import LSTM, Dense"
   ]
  },
  {
   "cell_type": "code",
   "execution_count": 5,
   "id": "290a141b",
   "metadata": {
    "scrolled": true
   },
   "outputs": [
    {
     "name": "stdout",
     "output_type": "stream",
     "text": [
      "Unnamed: 0     int64\n",
      "video game    object\n",
      "username      object\n",
      "date          object\n",
      "score          int64\n",
      "review        object\n",
      "rating        object\n",
      "dtype: object\n"
     ]
    },
    {
     "data": {
      "text/html": [
       "<div>\n",
       "<style scoped>\n",
       "    .dataframe tbody tr th:only-of-type {\n",
       "        vertical-align: middle;\n",
       "    }\n",
       "\n",
       "    .dataframe tbody tr th {\n",
       "        vertical-align: top;\n",
       "    }\n",
       "\n",
       "    .dataframe thead th {\n",
       "        text-align: right;\n",
       "    }\n",
       "</style>\n",
       "<table border=\"1\" class=\"dataframe\">\n",
       "  <thead>\n",
       "    <tr style=\"text-align: right;\">\n",
       "      <th></th>\n",
       "      <th>Unnamed: 0</th>\n",
       "      <th>video game</th>\n",
       "      <th>username</th>\n",
       "      <th>date</th>\n",
       "      <th>score</th>\n",
       "      <th>review</th>\n",
       "      <th>rating</th>\n",
       "    </tr>\n",
       "  </thead>\n",
       "  <tbody>\n",
       "    <tr>\n",
       "      <th>0</th>\n",
       "      <td>0</td>\n",
       "      <td>the-lord-of-the-rings---gollum</td>\n",
       "      <td>vova22379</td>\n",
       "      <td>Jul 27, 2023</td>\n",
       "      <td>0</td>\n",
       "      <td>⠀⠀⠀⠀⠀⠀⠀⠀⠀⠀⠀⠀⠀⠀⠀⠀⠀⠀⠀⠀⠀⠀⠀⠀⠀⠀⠀⠀⠀⠀⠀⠀⠀⠀⠀⠀⠀⠀⠀⠀⠀⠀⠀⠀⠀⠀...</td>\n",
       "      <td>Negative</td>\n",
       "    </tr>\n",
       "    <tr>\n",
       "      <th>1</th>\n",
       "      <td>1</td>\n",
       "      <td>the-lord-of-the-rings---gollum</td>\n",
       "      <td>Xeculiar</td>\n",
       "      <td>Jul 24, 2023</td>\n",
       "      <td>0</td>\n",
       "      <td>so horrendously bad I **** my pants and had a ...</td>\n",
       "      <td>Negative</td>\n",
       "    </tr>\n",
       "    <tr>\n",
       "      <th>2</th>\n",
       "      <td>2</td>\n",
       "      <td>the-lord-of-the-rings---gollum</td>\n",
       "      <td>Dirac</td>\n",
       "      <td>Jul 22, 2023</td>\n",
       "      <td>1</td>\n",
       "      <td>This game is inspirational.\\rAfter playing thi...</td>\n",
       "      <td>Negative</td>\n",
       "    </tr>\n",
       "    <tr>\n",
       "      <th>3</th>\n",
       "      <td>3</td>\n",
       "      <td>the-lord-of-the-rings---gollum</td>\n",
       "      <td>GyurMaGyuri7947</td>\n",
       "      <td>Jul 20, 2023</td>\n",
       "      <td>0</td>\n",
       "      <td>Typical after-2013 game (huge hype and then hu...</td>\n",
       "      <td>Negative</td>\n",
       "    </tr>\n",
       "    <tr>\n",
       "      <th>4</th>\n",
       "      <td>4</td>\n",
       "      <td>the-lord-of-the-rings---gollum</td>\n",
       "      <td>JDear</td>\n",
       "      <td>Jul  9, 2023</td>\n",
       "      <td>5</td>\n",
       "      <td>Better than I expected. Some cool ideas but mo...</td>\n",
       "      <td>Average</td>\n",
       "    </tr>\n",
       "  </tbody>\n",
       "</table>\n",
       "</div>"
      ],
      "text/plain": [
       "   Unnamed: 0                      video game  ...                                             review    rating\n",
       "0           0  the-lord-of-the-rings---gollum  ...  ⠀⠀⠀⠀⠀⠀⠀⠀⠀⠀⠀⠀⠀⠀⠀⠀⠀⠀⠀⠀⠀⠀⠀⠀⠀⠀⠀⠀⠀⠀⠀⠀⠀⠀⠀⠀⠀⠀⠀⠀⠀⠀⠀⠀⠀⠀...  Negative\n",
       "1           1  the-lord-of-the-rings---gollum  ...  so horrendously bad I **** my pants and had a ...  Negative\n",
       "2           2  the-lord-of-the-rings---gollum  ...  This game is inspirational.\\rAfter playing thi...  Negative\n",
       "3           3  the-lord-of-the-rings---gollum  ...  Typical after-2013 game (huge hype and then hu...  Negative\n",
       "4           4  the-lord-of-the-rings---gollum  ...  Better than I expected. Some cool ideas but mo...   Average\n",
       "\n",
       "[5 rows x 7 columns]"
      ]
     },
     "execution_count": 5,
     "metadata": {},
     "output_type": "execute_result"
    }
   ],
   "source": [
    "reviews_data = pd.read_csv('output.csv')\n",
    "print(reviews_data.dtypes)\n",
    "reviews_data.head()"
   ]
  },
  {
   "cell_type": "code",
   "execution_count": 8,
   "id": "23b35aea",
   "metadata": {},
   "outputs": [
    {
     "name": "stdout",
     "output_type": "stream",
     "text": [
      "One hot encoding shape:  (5441, 3)\n"
     ]
    }
   ],
   "source": [
    "reviews_classes = reviews_data['rating']\n",
    "reviews = reviews_data['review']\n",
    "\n",
    "label_encoder = preprocessing.LabelEncoder()\n",
    "review_classes = label_encoder.fit_transform(reviews_classes)\n",
    "\n",
    "review_classes = tf.keras.utils.to_categorical(review_classes, 3)\n",
    "print(\"One hot encoding shape: \", review_classes.shape)"
   ]
  },
  {
   "cell_type": "code",
   "execution_count": 15,
   "id": "96897418",
   "metadata": {},
   "outputs": [],
   "source": [
    "MAX_LENGTH = max(reviews.apply(lambda x: len(x)))\n",
    "VOCAB_WORDS = 1000\n",
    "\n",
    "review_tokenizer = Tokenizer(num_words=VOCAB_WORDS)\n",
    "review_tokenizer.fit_on_texts(reviews)\n",
    "\n",
    "review_sequences = review_tokenizer.texts_to_sequences(reviews)\n",
    "review_padded = pad_sequences(review_sequences, maxlen=MAX_LENGTH)"
   ]
  },
  {
   "cell_type": "code",
   "execution_count": 16,
   "id": "1423dc31",
   "metadata": {},
   "outputs": [],
   "source": [
    "X_train, X_test, Y_train, Y_test = train_test_split(review_padded,\n",
    "                                                   review_classes,\n",
    "                                                   test_size=0.2)"
   ]
  },
  {
   "cell_type": "code",
   "execution_count": 17,
   "id": "597458c3",
   "metadata": {},
   "outputs": [],
   "source": [
    "glove_dict = {}\n",
    "\n",
    "with open('glove.6B.50d.txt','r',encoding='utf8') as glove_file:\n",
    "    for line in glove_file:\n",
    "        emb_line = line.split()\n",
    "        emb_token = emb_line[0]\n",
    "        emb_vector = np.array(emb_line[1:], dtype=np.float32)\n",
    "        \n",
    "        if emb_vector.shape[0] == 50:\n",
    "            glove_dict[emb_token] = emb_vector"
   ]
  },
  {
   "cell_type": "code",
   "execution_count": 18,
   "id": "f75e6130",
   "metadata": {},
   "outputs": [],
   "source": [
    "vocab_len = len(review_tokenizer.word_index) + 1\n",
    "\n",
    "embedding_matrix = np.zeros((vocab_len, 50))\n",
    "\n",
    "for word, id in review_tokenizer.word_index.items():\n",
    "    try:\n",
    "        embedding_vector = glove_dict.get(word)\n",
    "        if embedding_vector is not None:\n",
    "            embedding_matrix[id] = embedding_vector\n",
    "    except:\n",
    "        pass"
   ]
  },
  {
   "cell_type": "code",
   "execution_count": 19,
   "id": "c0d456ef",
   "metadata": {},
   "outputs": [
    {
     "name": "stdout",
     "output_type": "stream",
     "text": [
      "Model: \"sequential\"\n",
      "_________________________________________________________________\n",
      " Layer (type)                Output Shape              Param #   \n",
      "=================================================================\n",
      " Embedding-Layer (Embedding)  (None, 4966, 50)         1242950   \n",
      "                                                                 \n",
      " lstm (LSTM)                 (None, 256)               314368    \n",
      "                                                                 \n",
      " flatten (Flatten)           (None, 256)               0         \n",
      "                                                                 \n",
      " Output-Layer (Dense)        (None, 3)                 771       \n",
      "                                                                 \n",
      "=================================================================\n",
      "Total params: 1,558,089\n",
      "Trainable params: 1,558,089\n",
      "Non-trainable params: 0\n",
      "_________________________________________________________________\n"
     ]
    }
   ],
   "source": [
    "# Setup Hyper Parameters for building the model\n",
    "NB_CLASSES=3\n",
    "\n",
    "model = tf.keras.models.Sequential()\n",
    "model.add(keras.layers.Embedding(vocab_len,\n",
    "                                50,\n",
    "                                name='Embedding-Layer',\n",
    "                                weights=[embedding_matrix],\n",
    "                                input_length=MAX_LENGTH,\n",
    "                                trainable=True))\n",
    "\n",
    "model.add(LSTM(256))\n",
    "model.add(keras.layers.Flatten())\n",
    "model.add(keras.layers.Dense(NB_CLASSES, name='Output-Layer', \n",
    "                            activation='softmax'))\n",
    "model.compile(loss='categorical_crossentropy', metrics=['accuracy'])\n",
    "model.summary()"
   ]
  },
  {
   "cell_type": "code",
   "execution_count": null,
   "id": "c07e17eb",
   "metadata": {},
   "outputs": [
    {
     "name": "stdout",
     "output_type": "stream",
     "text": [
      "Epoch 1/10\n",
      "14/14 [==============================] - 4662s 355s/step - loss: 0.9834 - accuracy: 0.5231 - val_loss: 0.9260 - val_accuracy: 0.5304\n",
      "Epoch 2/10\n",
      " 7/14 [==============>...............] - ETA: 53:50 - loss: 0.9132 - accuracy: 0.5458 "
     ]
    }
   ],
   "source": [
    "VERBOSE=1\n",
    "\n",
    "BATCH_SIZE=256\n",
    "EPOCHS=10\n",
    "VALIDATION_SPLIT=0.2\n",
    "\n",
    "history = model.fit(X_train, Y_train, batch_size=BATCH_SIZE,\n",
    "                   epochs=EPOCHS,verbose=VERBOSE,validation_split=VALIDATION_SPLIT)\n",
    "\n",
    "model.evaluate(X_test,Y_test)"
   ]
  }
 ],
 "metadata": {
  "kernelspec": {
   "display_name": "Python 3 (ipykernel)",
   "language": "python",
   "name": "python3"
  },
  "language_info": {
   "codemirror_mode": {
    "name": "ipython",
    "version": 3
   },
   "file_extension": ".py",
   "mimetype": "text/x-python",
   "name": "python",
   "nbconvert_exporter": "python",
   "pygments_lexer": "ipython3",
   "version": "3.9.13"
  }
 },
 "nbformat": 4,
 "nbformat_minor": 5
}
