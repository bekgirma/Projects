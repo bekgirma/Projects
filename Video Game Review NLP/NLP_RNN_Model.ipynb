{
 "cells": [
  {
   "cell_type": "code",
   "execution_count": 1,
   "metadata": {
    "id": "iXOhFoJLafS2"
   },
   "outputs": [],
   "source": [
    "import numpy as np\n",
    "import os\n",
    "import tensorflow as tf\n",
    "import pandas as pd\n",
    "\n",
    "from sklearn import preprocessing\n",
    "from sklearn.model_selection import train_test_split\n",
    "from tensorflow.keras.preprocessing.text import Tokenizer\n",
    "from tensorflow.keras.preprocessing.sequence import pad_sequences\n",
    "from tensorflow import keras\n",
    "from tensorflow.keras import optimizers\n",
    "from tensorflow.keras.regularizers import l2\n",
    "from keras.layers import LSTM, Dense"
   ]
  },
  {
   "cell_type": "code",
   "execution_count": null,
   "metadata": {
    "colab": {
     "base_uri": "https://localhost:8080/",
     "height": 349
    },
    "id": "MEhWwaMPap41",
    "outputId": "7920b18c-bb09-45de-b88b-7a1eb37d44bd"
   },
   "outputs": [
    {
     "name": "stdout",
     "output_type": "stream",
     "text": [
      "Unnamed: 0     int64\n",
      "video game    object\n",
      "username      object\n",
      "date          object\n",
      "score          int64\n",
      "review        object\n",
      "rating        object\n",
      "dtype: object\n"
     ]
    },
    {
     "data": {
      "text/html": [
       "\n",
       "  <div id=\"df-e2c6c9db-e60c-4a26-addf-9a8669a7c136\" class=\"colab-df-container\">\n",
       "    <div>\n",
       "<style scoped>\n",
       "    .dataframe tbody tr th:only-of-type {\n",
       "        vertical-align: middle;\n",
       "    }\n",
       "\n",
       "    .dataframe tbody tr th {\n",
       "        vertical-align: top;\n",
       "    }\n",
       "\n",
       "    .dataframe thead th {\n",
       "        text-align: right;\n",
       "    }\n",
       "</style>\n",
       "<table border=\"1\" class=\"dataframe\">\n",
       "  <thead>\n",
       "    <tr style=\"text-align: right;\">\n",
       "      <th></th>\n",
       "      <th>Unnamed: 0</th>\n",
       "      <th>video game</th>\n",
       "      <th>username</th>\n",
       "      <th>date</th>\n",
       "      <th>score</th>\n",
       "      <th>review</th>\n",
       "      <th>rating</th>\n",
       "    </tr>\n",
       "  </thead>\n",
       "  <tbody>\n",
       "    <tr>\n",
       "      <th>0</th>\n",
       "      <td>0</td>\n",
       "      <td>the-lord-of-the-rings---gollum</td>\n",
       "      <td>vova22379</td>\n",
       "      <td>Jul 27, 2023</td>\n",
       "      <td>0</td>\n",
       "      <td>⠀⠀⠀⠀⠀⠀⠀⠀⠀⠀⠀⠀⠀⠀⠀⠀⠀⠀⠀⠀⠀⠀⠀⠀⠀⠀⠀⠀⠀⠀⠀⠀⠀⠀⠀⠀⠀⠀⠀⠀⠀⠀⠀⠀⠀⠀...</td>\n",
       "      <td>Negative</td>\n",
       "    </tr>\n",
       "    <tr>\n",
       "      <th>1</th>\n",
       "      <td>1</td>\n",
       "      <td>the-lord-of-the-rings---gollum</td>\n",
       "      <td>Xeculiar</td>\n",
       "      <td>Jul 24, 2023</td>\n",
       "      <td>0</td>\n",
       "      <td>so horrendously bad I **** my pants and had a ...</td>\n",
       "      <td>Negative</td>\n",
       "    </tr>\n",
       "    <tr>\n",
       "      <th>2</th>\n",
       "      <td>2</td>\n",
       "      <td>the-lord-of-the-rings---gollum</td>\n",
       "      <td>Dirac</td>\n",
       "      <td>Jul 22, 2023</td>\n",
       "      <td>1</td>\n",
       "      <td>This game is inspirational.\\rAfter playing thi...</td>\n",
       "      <td>Negative</td>\n",
       "    </tr>\n",
       "    <tr>\n",
       "      <th>3</th>\n",
       "      <td>3</td>\n",
       "      <td>the-lord-of-the-rings---gollum</td>\n",
       "      <td>GyurMaGyuri7947</td>\n",
       "      <td>Jul 20, 2023</td>\n",
       "      <td>0</td>\n",
       "      <td>Typical after-2013 game (huge hype and then hu...</td>\n",
       "      <td>Negative</td>\n",
       "    </tr>\n",
       "    <tr>\n",
       "      <th>4</th>\n",
       "      <td>4</td>\n",
       "      <td>the-lord-of-the-rings---gollum</td>\n",
       "      <td>JDear</td>\n",
       "      <td>Jul  9, 2023</td>\n",
       "      <td>5</td>\n",
       "      <td>Better than I expected. Some cool ideas but mo...</td>\n",
       "      <td>Average</td>\n",
       "    </tr>\n",
       "  </tbody>\n",
       "</table>\n",
       "</div>\n",
       "    <div class=\"colab-df-buttons\">\n",
       "\n",
       "  <div class=\"colab-df-container\">\n",
       "    <button class=\"colab-df-convert\" onclick=\"convertToInteractive('df-e2c6c9db-e60c-4a26-addf-9a8669a7c136')\"\n",
       "            title=\"Convert this dataframe to an interactive table.\"\n",
       "            style=\"display:none;\">\n",
       "\n",
       "  <svg xmlns=\"http://www.w3.org/2000/svg\" height=\"24px\" viewBox=\"0 -960 960 960\">\n",
       "    <path d=\"M120-120v-720h720v720H120Zm60-500h600v-160H180v160Zm220 220h160v-160H400v160Zm0 220h160v-160H400v160ZM180-400h160v-160H180v160Zm440 0h160v-160H620v160ZM180-180h160v-160H180v160Zm440 0h160v-160H620v160Z\"/>\n",
       "  </svg>\n",
       "    </button>\n",
       "\n",
       "  <style>\n",
       "    .colab-df-container {\n",
       "      display:flex;\n",
       "      gap: 12px;\n",
       "    }\n",
       "\n",
       "    .colab-df-convert {\n",
       "      background-color: #E8F0FE;\n",
       "      border: none;\n",
       "      border-radius: 50%;\n",
       "      cursor: pointer;\n",
       "      display: none;\n",
       "      fill: #1967D2;\n",
       "      height: 32px;\n",
       "      padding: 0 0 0 0;\n",
       "      width: 32px;\n",
       "    }\n",
       "\n",
       "    .colab-df-convert:hover {\n",
       "      background-color: #E2EBFA;\n",
       "      box-shadow: 0px 1px 2px rgba(60, 64, 67, 0.3), 0px 1px 3px 1px rgba(60, 64, 67, 0.15);\n",
       "      fill: #174EA6;\n",
       "    }\n",
       "\n",
       "    .colab-df-buttons div {\n",
       "      margin-bottom: 4px;\n",
       "    }\n",
       "\n",
       "    [theme=dark] .colab-df-convert {\n",
       "      background-color: #3B4455;\n",
       "      fill: #D2E3FC;\n",
       "    }\n",
       "\n",
       "    [theme=dark] .colab-df-convert:hover {\n",
       "      background-color: #434B5C;\n",
       "      box-shadow: 0px 1px 3px 1px rgba(0, 0, 0, 0.15);\n",
       "      filter: drop-shadow(0px 1px 2px rgba(0, 0, 0, 0.3));\n",
       "      fill: #FFFFFF;\n",
       "    }\n",
       "  </style>\n",
       "\n",
       "    <script>\n",
       "      const buttonEl =\n",
       "        document.querySelector('#df-e2c6c9db-e60c-4a26-addf-9a8669a7c136 button.colab-df-convert');\n",
       "      buttonEl.style.display =\n",
       "        google.colab.kernel.accessAllowed ? 'block' : 'none';\n",
       "\n",
       "      async function convertToInteractive(key) {\n",
       "        const element = document.querySelector('#df-e2c6c9db-e60c-4a26-addf-9a8669a7c136');\n",
       "        const dataTable =\n",
       "          await google.colab.kernel.invokeFunction('convertToInteractive',\n",
       "                                                    [key], {});\n",
       "        if (!dataTable) return;\n",
       "\n",
       "        const docLinkHtml = 'Like what you see? Visit the ' +\n",
       "          '<a target=\"_blank\" href=https://colab.research.google.com/notebooks/data_table.ipynb>data table notebook</a>'\n",
       "          + ' to learn more about interactive tables.';\n",
       "        element.innerHTML = '';\n",
       "        dataTable['output_type'] = 'display_data';\n",
       "        await google.colab.output.renderOutput(dataTable, element);\n",
       "        const docLink = document.createElement('div');\n",
       "        docLink.innerHTML = docLinkHtml;\n",
       "        element.appendChild(docLink);\n",
       "      }\n",
       "    </script>\n",
       "  </div>\n",
       "\n",
       "\n",
       "<div id=\"df-8c7eb2b1-1534-4c31-a722-d6bc4b036000\">\n",
       "  <button class=\"colab-df-quickchart\" onclick=\"quickchart('df-8c7eb2b1-1534-4c31-a722-d6bc4b036000')\"\n",
       "            title=\"Suggest charts.\"\n",
       "            style=\"display:none;\">\n",
       "\n",
       "<svg xmlns=\"http://www.w3.org/2000/svg\" height=\"24px\"viewBox=\"0 0 24 24\"\n",
       "     width=\"24px\">\n",
       "    <g>\n",
       "        <path d=\"M19 3H5c-1.1 0-2 .9-2 2v14c0 1.1.9 2 2 2h14c1.1 0 2-.9 2-2V5c0-1.1-.9-2-2-2zM9 17H7v-7h2v7zm4 0h-2V7h2v10zm4 0h-2v-4h2v4z\"/>\n",
       "    </g>\n",
       "</svg>\n",
       "  </button>\n",
       "\n",
       "<style>\n",
       "  .colab-df-quickchart {\n",
       "    background-color: #E8F0FE;\n",
       "    border: none;\n",
       "    border-radius: 50%;\n",
       "    cursor: pointer;\n",
       "    display: none;\n",
       "    fill: #1967D2;\n",
       "    height: 32px;\n",
       "    padding: 0 0 0 0;\n",
       "    width: 32px;\n",
       "  }\n",
       "\n",
       "  .colab-df-quickchart:hover {\n",
       "    background-color: #E2EBFA;\n",
       "    box-shadow: 0px 1px 2px rgba(60, 64, 67, 0.3), 0px 1px 3px 1px rgba(60, 64, 67, 0.15);\n",
       "    fill: #174EA6;\n",
       "  }\n",
       "\n",
       "  [theme=dark] .colab-df-quickchart {\n",
       "    background-color: #3B4455;\n",
       "    fill: #D2E3FC;\n",
       "  }\n",
       "\n",
       "  [theme=dark] .colab-df-quickchart:hover {\n",
       "    background-color: #434B5C;\n",
       "    box-shadow: 0px 1px 3px 1px rgba(0, 0, 0, 0.15);\n",
       "    filter: drop-shadow(0px 1px 2px rgba(0, 0, 0, 0.3));\n",
       "    fill: #FFFFFF;\n",
       "  }\n",
       "</style>\n",
       "\n",
       "  <script>\n",
       "    async function quickchart(key) {\n",
       "      const charts = await google.colab.kernel.invokeFunction(\n",
       "          'suggestCharts', [key], {});\n",
       "    }\n",
       "    (() => {\n",
       "      let quickchartButtonEl =\n",
       "        document.querySelector('#df-8c7eb2b1-1534-4c31-a722-d6bc4b036000 button');\n",
       "      quickchartButtonEl.style.display =\n",
       "        google.colab.kernel.accessAllowed ? 'block' : 'none';\n",
       "    })();\n",
       "  </script>\n",
       "</div>\n",
       "    </div>\n",
       "  </div>\n"
      ],
      "text/plain": [
       "   Unnamed: 0                      video game         username          date  \\\n",
       "0           0  the-lord-of-the-rings---gollum        vova22379  Jul 27, 2023   \n",
       "1           1  the-lord-of-the-rings---gollum         Xeculiar  Jul 24, 2023   \n",
       "2           2  the-lord-of-the-rings---gollum            Dirac  Jul 22, 2023   \n",
       "3           3  the-lord-of-the-rings---gollum  GyurMaGyuri7947  Jul 20, 2023   \n",
       "4           4  the-lord-of-the-rings---gollum            JDear  Jul  9, 2023   \n",
       "\n",
       "   score                                             review    rating  \n",
       "0      0  ⠀⠀⠀⠀⠀⠀⠀⠀⠀⠀⠀⠀⠀⠀⠀⠀⠀⠀⠀⠀⠀⠀⠀⠀⠀⠀⠀⠀⠀⠀⠀⠀⠀⠀⠀⠀⠀⠀⠀⠀⠀⠀⠀⠀⠀⠀...  Negative  \n",
       "1      0  so horrendously bad I **** my pants and had a ...  Negative  \n",
       "2      1  This game is inspirational.\\rAfter playing thi...  Negative  \n",
       "3      0  Typical after-2013 game (huge hype and then hu...  Negative  \n",
       "4      5  Better than I expected. Some cool ideas but mo...   Average  "
      ]
     },
     "execution_count": 4,
     "metadata": {},
     "output_type": "execute_result"
    }
   ],
   "source": [
    "reviews_data = pd.read_csv('output.csv')\n",
    "print(reviews_data.dtypes)\n",
    "reviews_data.head()"
   ]
  },
  {
   "cell_type": "code",
   "execution_count": null,
   "metadata": {
    "colab": {
     "base_uri": "https://localhost:8080/"
    },
    "id": "9VwKXj10aqtT",
    "outputId": "120a531a-57b2-4380-e993-8de8b0fc783d"
   },
   "outputs": [
    {
     "name": "stdout",
     "output_type": "stream",
     "text": [
      "One hot encoding shape:  (5441, 3)\n"
     ]
    }
   ],
   "source": [
    "reviews_classes = reviews_data['rating']\n",
    "reviews = reviews_data['review']\n",
    "\n",
    "label_encoder = preprocessing.LabelEncoder()\n",
    "review_classes = label_encoder.fit_transform(reviews_classes)\n",
    "\n",
    "review_classes = tf.keras.utils.to_categorical(review_classes, 3)\n",
    "print(\"One hot encoding shape: \", review_classes.shape)"
   ]
  },
  {
   "cell_type": "code",
   "execution_count": null,
   "metadata": {
    "id": "qZEworozaq--"
   },
   "outputs": [],
   "source": [
    "MAX_LENGTH = max(reviews.apply(lambda x: len(x)))\n",
    "VOCAB_WORDS = 1000\n",
    "\n",
    "review_tokenizer = Tokenizer(num_words=VOCAB_WORDS)\n",
    "review_tokenizer.fit_on_texts(reviews)\n",
    "\n",
    "review_sequences = review_tokenizer.texts_to_sequences(reviews)\n",
    "review_padded = pad_sequences(review_sequences, maxlen=MAX_LENGTH)"
   ]
  },
  {
   "cell_type": "code",
   "execution_count": null,
   "metadata": {
    "id": "cxFWTJI6arKr"
   },
   "outputs": [],
   "source": [
    "X_train, X_test, Y_train, Y_test = train_test_split(review_padded,\n",
    "                                                   review_classes,\n",
    "                                                   test_size=0.2)"
   ]
  },
  {
   "cell_type": "code",
   "execution_count": null,
   "metadata": {
    "id": "pdY7wHiBarWe"
   },
   "outputs": [],
   "source": [
    "glove_dict = {}\n",
    "\n",
    "with open('glove.6B.50d.txt','r',encoding='utf8') as glove_file:\n",
    "    for line in glove_file:\n",
    "        emb_line = line.split()\n",
    "        emb_token = emb_line[0]\n",
    "        emb_vector = np.array(emb_line[1:], dtype=np.float32)\n",
    "\n",
    "        if emb_vector.shape[0] == 50:\n",
    "            glove_dict[emb_token] = emb_vector"
   ]
  },
  {
   "cell_type": "code",
   "execution_count": null,
   "metadata": {
    "id": "vshUgn9Yargq"
   },
   "outputs": [],
   "source": [
    "vocab_len = len(review_tokenizer.word_index) + 1\n",
    "\n",
    "embedding_matrix = np.zeros((vocab_len, 50))\n",
    "\n",
    "for word, id in review_tokenizer.word_index.items():\n",
    "    try:\n",
    "        embedding_vector = glove_dict.get(word)\n",
    "        if embedding_vector is not None:\n",
    "            embedding_matrix[id] = embedding_vector\n",
    "    except:\n",
    "        pass"
   ]
  },
  {
   "cell_type": "code",
   "execution_count": null,
   "metadata": {
    "colab": {
     "base_uri": "https://localhost:8080/"
    },
    "id": "w1cKV-pxarrK",
    "outputId": "28507f3e-b88b-4448-ad2a-95e869de9cf2"
   },
   "outputs": [
    {
     "name": "stdout",
     "output_type": "stream",
     "text": [
      "Model: \"sequential\"\n",
      "_________________________________________________________________\n",
      " Layer (type)                Output Shape              Param #   \n",
      "=================================================================\n",
      " Embedding-Layer (Embedding)  (None, 4966, 50)         1242950   \n",
      "                                                                 \n",
      " lstm (LSTM)                 (None, 256)               314368    \n",
      "                                                                 \n",
      " flatten (Flatten)           (None, 256)               0         \n",
      "                                                                 \n",
      " Output-Layer (Dense)        (None, 3)                 771       \n",
      "                                                                 \n",
      "=================================================================\n",
      "Total params: 1,558,089\n",
      "Trainable params: 1,558,089\n",
      "Non-trainable params: 0\n",
      "_________________________________________________________________\n"
     ]
    }
   ],
   "source": [
    "# Setup Hyper Parameters for building the model\n",
    "NB_CLASSES=3\n",
    "\n",
    "model = tf.keras.models.Sequential()\n",
    "model.add(keras.layers.Embedding(vocab_len,\n",
    "                                50,\n",
    "                                name='Embedding-Layer',\n",
    "                                weights=[embedding_matrix],\n",
    "                                input_length=MAX_LENGTH,\n",
    "                                trainable=True))\n",
    "\n",
    "model.add(LSTM(256))\n",
    "model.add(keras.layers.Flatten())\n",
    "model.add(keras.layers.Dense(NB_CLASSES, name='Output-Layer',\n",
    "                            activation='softmax'))\n",
    "model.compile(loss='categorical_crossentropy', metrics=['accuracy'])\n",
    "model.summary()"
   ]
  },
  {
   "cell_type": "code",
   "execution_count": null,
   "metadata": {
    "colab": {
     "base_uri": "https://localhost:8080/"
    },
    "id": "qxNS6A8oar0o",
    "outputId": "e9685300-f426-4490-8e56-3509c5b3320d"
   },
   "outputs": [
    {
     "name": "stdout",
     "output_type": "stream",
     "text": [
      "Epoch 1/10\n",
      "14/14 [==============================] - 21s 975ms/step - loss: 0.9781 - accuracy: 0.5131 - val_loss: 0.9402 - val_accuracy: 0.5786\n",
      "Epoch 2/10\n",
      "14/14 [==============================] - 13s 937ms/step - loss: 0.9144 - accuracy: 0.5562 - val_loss: 0.9175 - val_accuracy: 0.5741\n",
      "Epoch 3/10\n",
      "14/14 [==============================] - 13s 930ms/step - loss: 0.8954 - accuracy: 0.5803 - val_loss: 0.8914 - val_accuracy: 0.5901\n",
      "Epoch 4/10\n",
      "14/14 [==============================] - 13s 941ms/step - loss: 0.8700 - accuracy: 0.6093 - val_loss: 0.8620 - val_accuracy: 0.6165\n",
      "Epoch 5/10\n",
      "14/14 [==============================] - 13s 953ms/step - loss: 0.8597 - accuracy: 0.6128 - val_loss: 0.8373 - val_accuracy: 0.6602\n",
      "Epoch 6/10\n",
      "14/14 [==============================] - 13s 965ms/step - loss: 0.8219 - accuracy: 0.6377 - val_loss: 0.8066 - val_accuracy: 0.6567\n",
      "Epoch 7/10\n",
      "14/14 [==============================] - 14s 980ms/step - loss: 0.7970 - accuracy: 0.6633 - val_loss: 0.7556 - val_accuracy: 0.6923\n",
      "Epoch 8/10\n",
      "14/14 [==============================] - 14s 987ms/step - loss: 0.7717 - accuracy: 0.6765 - val_loss: 0.7323 - val_accuracy: 0.7141\n",
      "Epoch 9/10\n",
      "14/14 [==============================] - 14s 1s/step - loss: 0.7290 - accuracy: 0.6915 - val_loss: 0.9209 - val_accuracy: 0.5752\n",
      "Epoch 10/10\n",
      "14/14 [==============================] - 14s 994ms/step - loss: 0.7287 - accuracy: 0.6946 - val_loss: 0.7260 - val_accuracy: 0.7199\n",
      "35/35 [==============================] - 3s 86ms/step - loss: 0.7010 - accuracy: 0.7227\n"
     ]
    },
    {
     "data": {
      "text/plain": [
       "[0.7010186910629272, 0.7226813435554504]"
      ]
     },
     "execution_count": 11,
     "metadata": {},
     "output_type": "execute_result"
    }
   ],
   "source": [
    "VERBOSE=1\n",
    "\n",
    "BATCH_SIZE=256\n",
    "EPOCHS=10\n",
    "VALIDATION_SPLIT=0.2\n",
    "\n",
    "history = model.fit(X_train, Y_train, batch_size=BATCH_SIZE,\n",
    "                   epochs=EPOCHS,verbose=VERBOSE,validation_split=VALIDATION_SPLIT)\n",
    "\n",
    "model.evaluate(X_test,Y_test)"
   ]
  }
 ],
 "metadata": {
  "accelerator": "GPU",
  "colab": {
   "gpuType": "T4",
   "provenance": []
  },
  "kernelspec": {
   "display_name": "Python 3 (ipykernel)",
   "language": "python",
   "name": "python3"
  },
  "language_info": {
   "codemirror_mode": {
    "name": "ipython",
    "version": 3
   },
   "file_extension": ".py",
   "mimetype": "text/x-python",
   "name": "python",
   "nbconvert_exporter": "python",
   "pygments_lexer": "ipython3",
   "version": "3.9.13"
  }
 },
 "nbformat": 4,
 "nbformat_minor": 1
}
