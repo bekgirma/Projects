{
 "cells": [
  {
   "cell_type": "code",
   "execution_count": 1,
   "id": "818ddd14",
   "metadata": {},
   "outputs": [],
   "source": [
    "import nltk\n",
    "words = set(nltk.corpus.words.words())"
   ]
  },
  {
   "cell_type": "code",
   "execution_count": 7,
   "id": "26934586",
   "metadata": {},
   "outputs": [],
   "source": [
    "ps = nltk.PorterStemmer()"
   ]
  },
  {
   "cell_type": "code",
   "execution_count": 13,
   "id": "8f2e0661",
   "metadata": {},
   "outputs": [],
   "source": [
    "wn = nltk.WordNetLemmatizer()"
   ]
  },
  {
   "cell_type": "code",
   "execution_count": 8,
   "id": "f4b496e1",
   "metadata": {},
   "outputs": [],
   "source": [
    "import re"
   ]
  },
  {
   "cell_type": "code",
   "execution_count": 14,
   "id": "dc42e956",
   "metadata": {},
   "outputs": [
    {
     "name": "stdout",
     "output_type": "stream",
     "text": [
      "['eski', 'nostaljiyi', 'bozmadan', 'hatta', 'Ã¼stÃ¼ne', 'birÅŸeyler', 'ekleyerek', 'bir', 'ÅŸeyler', 'yapÄ', 'maya', 'Ã', 'alÄ', 'ÅŸÄ', 'lmÄ', 'ÅŸ', 'sÃ¼per']\n"
     ]
    },
    {
     "data": {
      "text/plain": [
       "'Ã¼stÃ¼ne maya sÃ¼per'"
      ]
     },
     "execution_count": 14,
     "metadata": {},
     "output_type": "execute_result"
    }
   ],
   "source": [
    "review = 'eski nostaljiyi bozmadan hatta Ã¼stÃ¼ne birÅŸeyler ekleyerek bir ÅŸeyler yapÄ±maya Ã§alÄ±ÅŸÄ±lmÄ±ÅŸ.sÃ¼per'\n",
    "\n",
    "tokens = re.split('\\W+', review)\n",
    "text = [wn.lemmatize(word) for word in tokens]\n",
    "print(text)\n",
    "\n",
    "\" \".join(w for w in text \\\n",
    "        if w.lower() in words or not w.isalpha())"
   ]
  }
 ],
 "metadata": {
  "kernelspec": {
   "display_name": "Python 3 (ipykernel)",
   "language": "python",
   "name": "python3"
  },
  "language_info": {
   "codemirror_mode": {
    "name": "ipython",
    "version": 3
   },
   "file_extension": ".py",
   "mimetype": "text/x-python",
   "name": "python",
   "nbconvert_exporter": "python",
   "pygments_lexer": "ipython3",
   "version": "3.9.13"
  }
 },
 "nbformat": 4,
 "nbformat_minor": 5
}
